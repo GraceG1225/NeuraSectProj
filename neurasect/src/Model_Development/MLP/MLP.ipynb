{
 "cells": [
  {
   "cell_type": "code",
   "execution_count": 5,
   "id": "9c206524-dfa0-41bc-aa98-d66cfea59b72",
   "metadata": {},
   "outputs": [],
   "source": [
    "import tensorflow as tf\n",
    "from tensorflow.keras import layers, models\n",
    "import numpy as np\n",
    "from dataclasses import dataclass\n",
    "from typing import Optional, Iterable, Tuple, List"
   ]
  },
  {
   "cell_type": "code",
   "execution_count": 6,
   "id": "f6c373d0-6492-4897-9c69-d5df275022f3",
   "metadata": {},
   "outputs": [],
   "source": [
    "def safety_check(model):\n",
    "  if not isinstance(model, models.Sequential):\n",
    "        raise ValueError(\"add_neuron currently only supports Sequential models\")\n",
    "\n",
    "    "
   ]
  },
  {
   "cell_type": "code",
   "execution_count": 20,
   "id": "de5faa65-a77c-4b78-9325-4acbc654104f",
   "metadata": {},
   "outputs": [],
   "source": [
    "\n",
    "\n",
    "import tensorflow as tf\n",
    "from tensorflow.keras import Sequential, layers\n",
    "\n",
    "class MLP:\n",
    "    def __init__(self, input_dim: int):\n",
    "        \n",
    "        self.input_dim = input_dim\n",
    "        self.model = Sequential()\n",
    "        self._has_input = False\n",
    "\n",
    "    def add_layer(self, neurons: int, activation: str = \"relu\"):\n",
    "        \n",
    "        if not self._has_input:\n",
    "            self.model.add(layers.Dense(neurons, activation=activation, input_shape=(self.input_dim,)))\n",
    "            self._has_input = True\n",
    "        else:\n",
    "            self.model.add(layers.Dense(neurons, activation=activation))\n",
    "\n",
    "    def compile(self, optimizer=\"adam\", loss=\"mse\", metrics=None):\n",
    "        self.model.compile(optimizer=optimizer, loss=loss, metrics=metrics or [])\n",
    "\n",
    "    def fit(self, X, y, **kwargs):\n",
    "        return self.model.fit(X, y, **kwargs)\n",
    "\n",
    "    def predict(self, X, **kwargs):\n",
    "        return self.model.predict(X, **kwargs)\n",
    "\n",
    "    def summary(self):\n",
    "        return self.model.summary()\n"
   ]
  },
  {
   "cell_type": "code",
   "execution_count": 19,
   "id": "4fe04640-a508-435e-bdc4-6a6a1e167730",
   "metadata": {},
   "outputs": [
    {
     "data": {
      "text/plain": [
       "Layer(neurons=2, activation='relu', prev_=None, next_=None)"
      ]
     },
     "execution_count": 19,
     "metadata": {},
     "output_type": "execute_result"
    }
   ],
   "source": [
    "@dataclass\n",
    "class Layer:\n",
    "    Model: \n",
    "    neurons: int = 2\n",
    "    activation: str = \"relu\"\n",
    "    prev_: Optional[\"Layer\"] = None\n",
    "    next_: Optional[\"Layer\"] = None\n",
    "\n"
   ]
  },
  {
   "cell_type": "code",
   "execution_count": 5,
   "id": "ed5bf4ef-8101-4f3b-a087-95d74030bdf6",
   "metadata": {},
   "outputs": [],
   "source": [
    "\n",
    "class MLP:\n",
    "    def __init__(self, input_, target_values, num_of_layers, num_of_neurons_per_layer):\n",
    "        self.input = input_\n",
    "        self.target_values = target_values\n",
    "        self.num_of_layers = num_of_layers\n",
    "        self.num_of_neurons_per_layer = np.array(num_of_neurons_per_layer)\n",
    "    \n",
    "    def add_layer(self,layer_number,neurons='2',activation='relu'):\n",
    "        self.num_of_neurons_per_layer[layer_number-1] = neurons\n",
    "        self.num_of_layer +=1\n",
    "        model.add(layers.Dense(neurons,activation))\n",
    "    def edit_layer(self,layer_number,neurons,activation='relu'):\n",
    "        if layer_number !=1:\n",
    "            new_model = model.Sequential([\n",
    "                old_model.layers[:layer_number],\n",
    "                layers.Dense(neurons,activation),\n",
    "                old_model.layers[layer_number:]\n",
    "            ])    \n",
    "    def add_Neurons(self,nuerons=1,layer_number=None):    \n",
    "        l_i = layer_number-1 # layer index\n",
    "        total_nuerons = self.num_of_neurons_per_layer[l_i] + neurons\n",
    "        editlayer(total_neurons)\n",
    "     \n",
    "\n"
   ]
  },
  {
   "cell_type": "code",
   "execution_count": null,
   "id": "89082e3b-082b-4721-a7df-14fe2ac887c5",
   "metadata": {},
   "outputs": [],
   "source": []
  }
 ],
 "metadata": {
  "kernelspec": {
   "display_name": "Python 3 (ipykernel)",
   "language": "python",
   "name": "python3"
  },
  "language_info": {
   "codemirror_mode": {
    "name": "ipython",
    "version": 3
   },
   "file_extension": ".py",
   "mimetype": "text/x-python",
   "name": "python",
   "nbconvert_exporter": "python",
   "pygments_lexer": "ipython3",
   "version": "3.13.0"
  }
 },
 "nbformat": 4,
 "nbformat_minor": 5
}
